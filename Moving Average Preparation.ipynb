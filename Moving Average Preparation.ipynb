{
 "cells": [
  {
   "cell_type": "code",
   "execution_count": 9,
   "metadata": {
    "ExecuteTime": {
     "end_time": "2020-09-19T11:23:35.387543Z",
     "start_time": "2020-09-19T11:23:32.829104Z"
    }
   },
   "outputs": [],
   "source": [
    "import pandas as pd\n",
    "import numpy as np\n",
    "from datetime import timedelta\n",
    "import datetime as dt\n",
    "from datetime import date"
   ]
  },
  {
   "cell_type": "code",
   "execution_count": 10,
   "metadata": {
    "ExecuteTime": {
     "end_time": "2020-09-19T11:23:36.622621Z",
     "start_time": "2020-09-19T11:23:36.358570Z"
    }
   },
   "outputs": [
    {
     "data": {
      "text/html": [
       "<div>\n",
       "<style scoped>\n",
       "    .dataframe tbody tr th:only-of-type {\n",
       "        vertical-align: middle;\n",
       "    }\n",
       "\n",
       "    .dataframe tbody tr th {\n",
       "        vertical-align: top;\n",
       "    }\n",
       "\n",
       "    .dataframe thead th {\n",
       "        text-align: right;\n",
       "    }\n",
       "</style>\n",
       "<table border=\"1\" class=\"dataframe\">\n",
       "  <thead>\n",
       "    <tr style=\"text-align: right;\">\n",
       "      <th></th>\n",
       "      <th>Date</th>\n",
       "      <th>Confirmed</th>\n",
       "      <th>Deaths</th>\n",
       "    </tr>\n",
       "  </thead>\n",
       "  <tbody>\n",
       "    <tr>\n",
       "      <th>0</th>\n",
       "      <td>2020-01-23</td>\n",
       "      <td>0.0</td>\n",
       "      <td>0.0</td>\n",
       "    </tr>\n",
       "    <tr>\n",
       "      <th>1</th>\n",
       "      <td>2020-01-24</td>\n",
       "      <td>1.0</td>\n",
       "      <td>0.0</td>\n",
       "    </tr>\n",
       "    <tr>\n",
       "      <th>2</th>\n",
       "      <td>2020-01-25</td>\n",
       "      <td>0.0</td>\n",
       "      <td>0.0</td>\n",
       "    </tr>\n",
       "    <tr>\n",
       "      <th>3</th>\n",
       "      <td>2020-01-26</td>\n",
       "      <td>3.0</td>\n",
       "      <td>0.0</td>\n",
       "    </tr>\n",
       "    <tr>\n",
       "      <th>4</th>\n",
       "      <td>2020-01-27</td>\n",
       "      <td>0.0</td>\n",
       "      <td>0.0</td>\n",
       "    </tr>\n",
       "  </tbody>\n",
       "</table>\n",
       "</div>"
      ],
      "text/plain": [
       "         Date  Confirmed  Deaths\n",
       "0  2020-01-23        0.0     0.0\n",
       "1  2020-01-24        1.0     0.0\n",
       "2  2020-01-25        0.0     0.0\n",
       "3  2020-01-26        3.0     0.0\n",
       "4  2020-01-27        0.0     0.0"
      ]
     },
     "execution_count": 10,
     "metadata": {},
     "output_type": "execute_result"
    }
   ],
   "source": [
    "data = pd.read_csv('us_time_series.csv')\n",
    "data.head()"
   ]
  },
  {
   "cell_type": "code",
   "execution_count": 11,
   "metadata": {
    "ExecuteTime": {
     "end_time": "2020-09-19T11:23:41.033292Z",
     "start_time": "2020-09-19T11:23:38.349075Z"
    }
   },
   "outputs": [],
   "source": [
    "url = 'https://raw.githubusercontent.com/CSSEGISandData/COVID-19/master/csse_covid_19_data/csse_covid_19_time_series/time_series_covid19_confirmed_US.csv'\n",
    "df = pd.read_csv(url)"
   ]
  },
  {
   "cell_type": "code",
   "execution_count": 12,
   "metadata": {
    "ExecuteTime": {
     "end_time": "2020-09-19T11:23:42.629607Z",
     "start_time": "2020-09-19T11:23:42.583582Z"
    }
   },
   "outputs": [
    {
     "data": {
      "text/html": [
       "<div>\n",
       "<style scoped>\n",
       "    .dataframe tbody tr th:only-of-type {\n",
       "        vertical-align: middle;\n",
       "    }\n",
       "\n",
       "    .dataframe tbody tr th {\n",
       "        vertical-align: top;\n",
       "    }\n",
       "\n",
       "    .dataframe thead th {\n",
       "        text-align: right;\n",
       "    }\n",
       "</style>\n",
       "<table border=\"1\" class=\"dataframe\">\n",
       "  <thead>\n",
       "    <tr style=\"text-align: right;\">\n",
       "      <th></th>\n",
       "      <th>UID</th>\n",
       "      <th>iso2</th>\n",
       "      <th>iso3</th>\n",
       "      <th>code3</th>\n",
       "      <th>FIPS</th>\n",
       "      <th>Admin2</th>\n",
       "      <th>Province_State</th>\n",
       "      <th>Country_Region</th>\n",
       "      <th>Lat</th>\n",
       "      <th>Long_</th>\n",
       "      <th>...</th>\n",
       "      <th>9/9/20</th>\n",
       "      <th>9/10/20</th>\n",
       "      <th>9/11/20</th>\n",
       "      <th>9/12/20</th>\n",
       "      <th>9/13/20</th>\n",
       "      <th>9/14/20</th>\n",
       "      <th>9/15/20</th>\n",
       "      <th>9/16/20</th>\n",
       "      <th>9/17/20</th>\n",
       "      <th>9/18/20</th>\n",
       "    </tr>\n",
       "  </thead>\n",
       "  <tbody>\n",
       "    <tr>\n",
       "      <th>0</th>\n",
       "      <td>84001001</td>\n",
       "      <td>US</td>\n",
       "      <td>USA</td>\n",
       "      <td>840</td>\n",
       "      <td>1001.0</td>\n",
       "      <td>Autauga</td>\n",
       "      <td>Alabama</td>\n",
       "      <td>US</td>\n",
       "      <td>32.539527</td>\n",
       "      <td>-86.644082</td>\n",
       "      <td>...</td>\n",
       "      <td>1398</td>\n",
       "      <td>1413</td>\n",
       "      <td>1420</td>\n",
       "      <td>1432</td>\n",
       "      <td>1442</td>\n",
       "      <td>1447</td>\n",
       "      <td>1463</td>\n",
       "      <td>1619</td>\n",
       "      <td>1624</td>\n",
       "      <td>1664</td>\n",
       "    </tr>\n",
       "    <tr>\n",
       "      <th>1</th>\n",
       "      <td>84001003</td>\n",
       "      <td>US</td>\n",
       "      <td>USA</td>\n",
       "      <td>840</td>\n",
       "      <td>1003.0</td>\n",
       "      <td>Baldwin</td>\n",
       "      <td>Alabama</td>\n",
       "      <td>US</td>\n",
       "      <td>30.727750</td>\n",
       "      <td>-87.722071</td>\n",
       "      <td>...</td>\n",
       "      <td>4639</td>\n",
       "      <td>4678</td>\n",
       "      <td>4722</td>\n",
       "      <td>4752</td>\n",
       "      <td>4781</td>\n",
       "      <td>4800</td>\n",
       "      <td>4812</td>\n",
       "      <td>5003</td>\n",
       "      <td>5021</td>\n",
       "      <td>5033</td>\n",
       "    </tr>\n",
       "    <tr>\n",
       "      <th>2</th>\n",
       "      <td>84001005</td>\n",
       "      <td>US</td>\n",
       "      <td>USA</td>\n",
       "      <td>840</td>\n",
       "      <td>1005.0</td>\n",
       "      <td>Barbour</td>\n",
       "      <td>Alabama</td>\n",
       "      <td>US</td>\n",
       "      <td>31.868263</td>\n",
       "      <td>-85.387129</td>\n",
       "      <td>...</td>\n",
       "      <td>618</td>\n",
       "      <td>618</td>\n",
       "      <td>618</td>\n",
       "      <td>620</td>\n",
       "      <td>622</td>\n",
       "      <td>626</td>\n",
       "      <td>629</td>\n",
       "      <td>809</td>\n",
       "      <td>809</td>\n",
       "      <td>824</td>\n",
       "    </tr>\n",
       "    <tr>\n",
       "      <th>3</th>\n",
       "      <td>84001007</td>\n",
       "      <td>US</td>\n",
       "      <td>USA</td>\n",
       "      <td>840</td>\n",
       "      <td>1007.0</td>\n",
       "      <td>Bibb</td>\n",
       "      <td>Alabama</td>\n",
       "      <td>US</td>\n",
       "      <td>32.996421</td>\n",
       "      <td>-87.125115</td>\n",
       "      <td>...</td>\n",
       "      <td>564</td>\n",
       "      <td>566</td>\n",
       "      <td>574</td>\n",
       "      <td>576</td>\n",
       "      <td>578</td>\n",
       "      <td>581</td>\n",
       "      <td>580</td>\n",
       "      <td>612</td>\n",
       "      <td>617</td>\n",
       "      <td>619</td>\n",
       "    </tr>\n",
       "    <tr>\n",
       "      <th>4</th>\n",
       "      <td>84001009</td>\n",
       "      <td>US</td>\n",
       "      <td>USA</td>\n",
       "      <td>840</td>\n",
       "      <td>1009.0</td>\n",
       "      <td>Blount</td>\n",
       "      <td>Alabama</td>\n",
       "      <td>US</td>\n",
       "      <td>33.982109</td>\n",
       "      <td>-86.567906</td>\n",
       "      <td>...</td>\n",
       "      <td>1082</td>\n",
       "      <td>1099</td>\n",
       "      <td>1109</td>\n",
       "      <td>1114</td>\n",
       "      <td>1121</td>\n",
       "      <td>1128</td>\n",
       "      <td>1139</td>\n",
       "      <td>1487</td>\n",
       "      <td>1504</td>\n",
       "      <td>1527</td>\n",
       "    </tr>\n",
       "  </tbody>\n",
       "</table>\n",
       "<p>5 rows × 252 columns</p>\n",
       "</div>"
      ],
      "text/plain": [
       "        UID iso2 iso3  code3    FIPS   Admin2 Province_State Country_Region  \\\n",
       "0  84001001   US  USA    840  1001.0  Autauga        Alabama             US   \n",
       "1  84001003   US  USA    840  1003.0  Baldwin        Alabama             US   \n",
       "2  84001005   US  USA    840  1005.0  Barbour        Alabama             US   \n",
       "3  84001007   US  USA    840  1007.0     Bibb        Alabama             US   \n",
       "4  84001009   US  USA    840  1009.0   Blount        Alabama             US   \n",
       "\n",
       "         Lat      Long_  ... 9/9/20  9/10/20  9/11/20  9/12/20  9/13/20  \\\n",
       "0  32.539527 -86.644082  ...   1398     1413     1420     1432     1442   \n",
       "1  30.727750 -87.722071  ...   4639     4678     4722     4752     4781   \n",
       "2  31.868263 -85.387129  ...    618      618      618      620      622   \n",
       "3  32.996421 -87.125115  ...    564      566      574      576      578   \n",
       "4  33.982109 -86.567906  ...   1082     1099     1109     1114     1121   \n",
       "\n",
       "   9/14/20  9/15/20  9/16/20  9/17/20  9/18/20  \n",
       "0     1447     1463     1619     1624     1664  \n",
       "1     4800     4812     5003     5021     5033  \n",
       "2      626      629      809      809      824  \n",
       "3      581      580      612      617      619  \n",
       "4     1128     1139     1487     1504     1527  \n",
       "\n",
       "[5 rows x 252 columns]"
      ]
     },
     "execution_count": 12,
     "metadata": {},
     "output_type": "execute_result"
    }
   ],
   "source": [
    "df.head()"
   ]
  },
  {
   "cell_type": "code",
   "execution_count": 13,
   "metadata": {
    "ExecuteTime": {
     "end_time": "2020-09-19T11:23:47.192252Z",
     "start_time": "2020-09-19T11:23:46.985275Z"
    }
   },
   "outputs": [],
   "source": [
    "#Drop uncessary columns\n",
    "df = df.drop(['UID','iso2',\"iso3\",'code3','Country_Region','Combined_Key'],axis=1)\n",
    "\n",
    "#Extract variable with dates\n",
    "dates = df.columns[6:]\n",
    "\n",
    "#Melt the dataset from row into columns\n",
    "us_confirmed = pd.melt(df,id_vars = ['Admin2','Province_State','FIPS','Lat','Long_'],value_vars=dates, var_name='Date', value_name='Confirmed')\n"
   ]
  },
  {
   "cell_type": "code",
   "execution_count": 14,
   "metadata": {
    "ExecuteTime": {
     "end_time": "2020-09-19T11:23:48.822050Z",
     "start_time": "2020-09-19T11:23:48.804687Z"
    }
   },
   "outputs": [
    {
     "data": {
      "text/html": [
       "<div>\n",
       "<style scoped>\n",
       "    .dataframe tbody tr th:only-of-type {\n",
       "        vertical-align: middle;\n",
       "    }\n",
       "\n",
       "    .dataframe tbody tr th {\n",
       "        vertical-align: top;\n",
       "    }\n",
       "\n",
       "    .dataframe thead th {\n",
       "        text-align: right;\n",
       "    }\n",
       "</style>\n",
       "<table border=\"1\" class=\"dataframe\">\n",
       "  <thead>\n",
       "    <tr style=\"text-align: right;\">\n",
       "      <th></th>\n",
       "      <th>Admin2</th>\n",
       "      <th>Province_State</th>\n",
       "      <th>FIPS</th>\n",
       "      <th>Lat</th>\n",
       "      <th>Long_</th>\n",
       "      <th>Date</th>\n",
       "      <th>Confirmed</th>\n",
       "    </tr>\n",
       "  </thead>\n",
       "  <tbody>\n",
       "    <tr>\n",
       "      <th>0</th>\n",
       "      <td>Autauga</td>\n",
       "      <td>Alabama</td>\n",
       "      <td>1001.0</td>\n",
       "      <td>32.539527</td>\n",
       "      <td>-86.644082</td>\n",
       "      <td>1/23/20</td>\n",
       "      <td>0</td>\n",
       "    </tr>\n",
       "    <tr>\n",
       "      <th>1</th>\n",
       "      <td>Baldwin</td>\n",
       "      <td>Alabama</td>\n",
       "      <td>1003.0</td>\n",
       "      <td>30.727750</td>\n",
       "      <td>-87.722071</td>\n",
       "      <td>1/23/20</td>\n",
       "      <td>0</td>\n",
       "    </tr>\n",
       "    <tr>\n",
       "      <th>2</th>\n",
       "      <td>Barbour</td>\n",
       "      <td>Alabama</td>\n",
       "      <td>1005.0</td>\n",
       "      <td>31.868263</td>\n",
       "      <td>-85.387129</td>\n",
       "      <td>1/23/20</td>\n",
       "      <td>0</td>\n",
       "    </tr>\n",
       "    <tr>\n",
       "      <th>3</th>\n",
       "      <td>Bibb</td>\n",
       "      <td>Alabama</td>\n",
       "      <td>1007.0</td>\n",
       "      <td>32.996421</td>\n",
       "      <td>-87.125115</td>\n",
       "      <td>1/23/20</td>\n",
       "      <td>0</td>\n",
       "    </tr>\n",
       "    <tr>\n",
       "      <th>4</th>\n",
       "      <td>Blount</td>\n",
       "      <td>Alabama</td>\n",
       "      <td>1009.0</td>\n",
       "      <td>33.982109</td>\n",
       "      <td>-86.567906</td>\n",
       "      <td>1/23/20</td>\n",
       "      <td>0</td>\n",
       "    </tr>\n",
       "  </tbody>\n",
       "</table>\n",
       "</div>"
      ],
      "text/plain": [
       "    Admin2 Province_State    FIPS        Lat      Long_     Date  Confirmed\n",
       "0  Autauga        Alabama  1001.0  32.539527 -86.644082  1/23/20          0\n",
       "1  Baldwin        Alabama  1003.0  30.727750 -87.722071  1/23/20          0\n",
       "2  Barbour        Alabama  1005.0  31.868263 -85.387129  1/23/20          0\n",
       "3     Bibb        Alabama  1007.0  32.996421 -87.125115  1/23/20          0\n",
       "4   Blount        Alabama  1009.0  33.982109 -86.567906  1/23/20          0"
      ]
     },
     "execution_count": 14,
     "metadata": {},
     "output_type": "execute_result"
    }
   ],
   "source": [
    "us_confirmed.head()"
   ]
  },
  {
   "cell_type": "code",
   "execution_count": 15,
   "metadata": {
    "ExecuteTime": {
     "end_time": "2020-09-18T10:15:29.767016Z",
     "start_time": "2020-09-18T10:13:49.427134Z"
    }
   },
   "outputs": [
    {
     "name": "stdout",
     "output_type": "stream",
     "text": [
      "<class 'pandas.core.frame.DataFrame'>\n",
      "RangeIndex: 798260 entries, 0 to 798259\n",
      "Data columns (total 7 columns):\n",
      "Admin2            796826 non-null object\n",
      "Province_State    798260 non-null object\n",
      "FIPS              795870 non-null float64\n",
      "Lat               798260 non-null float64\n",
      "Long_             798260 non-null float64\n",
      "Date              798260 non-null datetime64[ns]\n",
      "Confirmed         798260 non-null int64\n",
      "dtypes: datetime64[ns](1), float64(3), int64(1), object(2)\n",
      "memory usage: 42.6+ MB\n"
     ]
    }
   ],
   "source": [
    "us_confirmed['Date'] = pd.to_datetime(us_confirmed['Date'])\n",
    "us_confirmed.info()"
   ]
  },
  {
   "cell_type": "code",
   "execution_count": 27,
   "metadata": {
    "ExecuteTime": {
     "end_time": "2020-09-18T10:19:50.767976Z",
     "start_time": "2020-09-18T10:19:50.732964Z"
    }
   },
   "outputs": [],
   "source": [
    "us_confirmed = us_confirmed.set_index('Date')"
   ]
  },
  {
   "cell_type": "code",
   "execution_count": 38,
   "metadata": {
    "ExecuteTime": {
     "end_time": "2020-09-18T10:25:41.343111Z",
     "start_time": "2020-09-18T10:25:41.302586Z"
    }
   },
   "outputs": [],
   "source": [
    "us_confirmed = us_confirmed.reset_index()\n",
    "df = us_confirmed[['Date','Province_State','Admin2','Confirmed']]"
   ]
  },
  {
   "cell_type": "code",
   "execution_count": 29,
   "metadata": {
    "ExecuteTime": {
     "end_time": "2020-09-19T11:28:57.277266Z",
     "start_time": "2020-09-19T11:28:57.268962Z"
    }
   },
   "outputs": [],
   "source": [
    "yesterday = (date.today() - timedelta(days = 1))\n",
    "days_14 = (yesterday - timedelta(days = 14)).strftime('%#m/%#d/%y')\n",
    "yesterday = yesterday.strftime('%#m/%#d/%y')\n",
    "# days_14 = days_14.strftime(\"%Y-%m-%d\")"
   ]
  },
  {
   "cell_type": "code",
   "execution_count": 130,
   "metadata": {
    "ExecuteTime": {
     "end_time": "2020-09-18T11:28:38.080557Z",
     "start_time": "2020-09-18T11:28:38.055558Z"
    }
   },
   "outputs": [],
   "source": [
    "df = df.set_index('Date')"
   ]
  },
  {
   "cell_type": "code",
   "execution_count": 131,
   "metadata": {
    "ExecuteTime": {
     "end_time": "2020-09-18T11:28:39.836984Z",
     "start_time": "2020-09-18T11:28:39.702461Z"
    }
   },
   "outputs": [],
   "source": [
    "days_14 = df.loc[days_14:yesterday]"
   ]
  },
  {
   "cell_type": "code",
   "execution_count": 163,
   "metadata": {
    "ExecuteTime": {
     "end_time": "2020-09-18T11:54:20.361733Z",
     "start_time": "2020-09-18T11:53:17.356042Z"
    }
   },
   "outputs": [],
   "source": [
    "days_14.sort_values(by = ['Province_State','Admin2'])\n",
    "state_county = days_14[['Province_State','Admin2']]\n",
    "state_county = state_county.drop_duplicates()\n",
    "state_county = state_county.reset_index()\n",
    "state = []\n",
    "county = []\n",
    "average  = []\n",
    "for i in range(0,len(state_county)):\n",
    "    temp_state = state_county.loc[i,'Province_State']\n",
    "    temp_county = state_county.loc[i,'Admin2']\n",
    "    mean_average = days_14[(days_14['Province_State'] == temp_state) & (days_14['Admin2']==temp_county)]['Confirmed'].diff().mean()\n",
    "    state.append(temp_state)\n",
    "    county.append(temp_county)\n",
    "    average.append(mean_average)"
   ]
  },
  {
   "cell_type": "code",
   "execution_count": 166,
   "metadata": {
    "ExecuteTime": {
     "end_time": "2020-09-18T11:55:23.156184Z",
     "start_time": "2020-09-18T11:55:23.114094Z"
    }
   },
   "outputs": [
    {
     "data": {
      "text/html": [
       "<div>\n",
       "<style scoped>\n",
       "    .dataframe tbody tr th:only-of-type {\n",
       "        vertical-align: middle;\n",
       "    }\n",
       "\n",
       "    .dataframe tbody tr th {\n",
       "        vertical-align: top;\n",
       "    }\n",
       "\n",
       "    .dataframe thead th {\n",
       "        text-align: right;\n",
       "    }\n",
       "</style>\n",
       "<table border=\"1\" class=\"dataframe\">\n",
       "  <thead>\n",
       "    <tr style=\"text-align: right;\">\n",
       "      <th></th>\n",
       "      <th>state</th>\n",
       "      <th>county</th>\n",
       "      <th>average</th>\n",
       "    </tr>\n",
       "  </thead>\n",
       "  <tbody>\n",
       "    <tr>\n",
       "      <th>0</th>\n",
       "      <td>Alabama</td>\n",
       "      <td>Autauga</td>\n",
       "      <td>19.642857</td>\n",
       "    </tr>\n",
       "    <tr>\n",
       "      <th>1</th>\n",
       "      <td>Alabama</td>\n",
       "      <td>Baldwin</td>\n",
       "      <td>37.571429</td>\n",
       "    </tr>\n",
       "    <tr>\n",
       "      <th>2</th>\n",
       "      <td>Alabama</td>\n",
       "      <td>Barbour</td>\n",
       "      <td>13.928571</td>\n",
       "    </tr>\n",
       "    <tr>\n",
       "      <th>3</th>\n",
       "      <td>Alabama</td>\n",
       "      <td>Bibb</td>\n",
       "      <td>5.357143</td>\n",
       "    </tr>\n",
       "    <tr>\n",
       "      <th>4</th>\n",
       "      <td>Alabama</td>\n",
       "      <td>Blount</td>\n",
       "      <td>33.357143</td>\n",
       "    </tr>\n",
       "  </tbody>\n",
       "</table>\n",
       "</div>"
      ],
      "text/plain": [
       "     state   county    average\n",
       "0  Alabama  Autauga  19.642857\n",
       "1  Alabama  Baldwin  37.571429\n",
       "2  Alabama  Barbour  13.928571\n",
       "3  Alabama     Bibb   5.357143\n",
       "4  Alabama   Blount  33.357143"
      ]
     },
     "execution_count": 166,
     "metadata": {},
     "output_type": "execute_result"
    }
   ],
   "source": [
    "average_df = pd.DataFrame({'state':state,'county':county,'average':average})\n",
    "average_df.head()"
   ]
  },
  {
   "cell_type": "code",
   "execution_count": 171,
   "metadata": {
    "ExecuteTime": {
     "end_time": "2020-09-18T11:57:46.098316Z",
     "start_time": "2020-09-18T11:57:46.000294Z"
    }
   },
   "outputs": [],
   "source": [
    "average_df.to_csv('us_moving_avg.csv',index=False)"
   ]
  }
 ],
 "metadata": {
  "kernelspec": {
   "display_name": "Python 3",
   "language": "python",
   "name": "python3"
  },
  "language_info": {
   "codemirror_mode": {
    "name": "ipython",
    "version": 3
   },
   "file_extension": ".py",
   "mimetype": "text/x-python",
   "name": "python",
   "nbconvert_exporter": "python",
   "pygments_lexer": "ipython3",
   "version": "3.7.2"
  }
 },
 "nbformat": 4,
 "nbformat_minor": 2
}

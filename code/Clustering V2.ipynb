{
 "cells": [
  {
   "cell_type": "code",
   "execution_count": 1,
   "metadata": {
    "ExecuteTime": {
     "end_time": "2020-10-29T23:17:48.142291Z",
     "start_time": "2020-10-29T23:17:34.227292Z"
    }
   },
   "outputs": [
    {
     "name": "stdout",
     "output_type": "stream",
     "text": [
      "Setup Complete\n"
     ]
    }
   ],
   "source": [
    "from sklearn.preprocessing import StandardScaler\n",
    "import scipy.cluster.hierarchy as shc\n",
    "from sklearn.cluster import AgglomerativeClustering\n",
    "from sklearn.metrics import silhouette_score\n",
    "import numpy as np\n",
    "import pandas as pd\n",
    "import matplotlib.pyplot as plt\n",
    "import seaborn as sns\n",
    "sns.set_style('darkgrid')\n",
    "import warnings\n",
    "warnings.filterwarnings('ignore')\n",
    "import plotly.express as px\n",
    "print('Setup Complete')"
   ]
  },
  {
   "cell_type": "code",
   "execution_count": 2,
   "metadata": {
    "ExecuteTime": {
     "end_time": "2020-10-29T23:17:50.117801Z",
     "start_time": "2020-10-29T23:17:49.929806Z"
    }
   },
   "outputs": [
    {
     "data": {
      "text/html": [
       "<div>\n",
       "<style scoped>\n",
       "    .dataframe tbody tr th:only-of-type {\n",
       "        vertical-align: middle;\n",
       "    }\n",
       "\n",
       "    .dataframe tbody tr th {\n",
       "        vertical-align: top;\n",
       "    }\n",
       "\n",
       "    .dataframe thead th {\n",
       "        text-align: right;\n",
       "    }\n",
       "</style>\n",
       "<table border=\"1\" class=\"dataframe\">\n",
       "  <thead>\n",
       "    <tr style=\"text-align: right;\">\n",
       "      <th></th>\n",
       "      <th>Active</th>\n",
       "      <th>Active_by_pop</th>\n",
       "      <th>Confirmed</th>\n",
       "      <th>County</th>\n",
       "      <th>Date</th>\n",
       "      <th>Death_per_1000pop</th>\n",
       "      <th>Deaths</th>\n",
       "      <th>FIPS</th>\n",
       "      <th>Infection_Rate</th>\n",
       "      <th>Land Area</th>\n",
       "      <th>Lat</th>\n",
       "      <th>Long</th>\n",
       "      <th>Mortality_Rate</th>\n",
       "      <th>Population</th>\n",
       "      <th>Recovered</th>\n",
       "      <th>State</th>\n",
       "      <th>Pop_density</th>\n",
       "      <th>Active_case_per_pop_per_area</th>\n",
       "      <th>Active_per1000pop</th>\n",
       "      <th>Recovered_per_1000_pop</th>\n",
       "    </tr>\n",
       "  </thead>\n",
       "  <tbody>\n",
       "    <tr>\n",
       "      <th>0</th>\n",
       "      <td>955.0</td>\n",
       "      <td>0.017094</td>\n",
       "      <td>1624</td>\n",
       "      <td>Autauga</td>\n",
       "      <td>9/17/20</td>\n",
       "      <td>0.429576</td>\n",
       "      <td>24</td>\n",
       "      <td>1001.0</td>\n",
       "      <td>1.709356</td>\n",
       "      <td>1565.630666</td>\n",
       "      <td>32.539527</td>\n",
       "      <td>-86.644082</td>\n",
       "      <td>1.477833</td>\n",
       "      <td>55869</td>\n",
       "      <td>645.0</td>\n",
       "      <td>Alabama</td>\n",
       "      <td>35.684661</td>\n",
       "      <td>26.762199</td>\n",
       "      <td>17.093558</td>\n",
       "      <td>11.544864</td>\n",
       "    </tr>\n",
       "    <tr>\n",
       "      <th>1</th>\n",
       "      <td>2978.0</td>\n",
       "      <td>0.013340</td>\n",
       "      <td>5021</td>\n",
       "      <td>Baldwin</td>\n",
       "      <td>9/17/20</td>\n",
       "      <td>0.215021</td>\n",
       "      <td>48</td>\n",
       "      <td>1003.0</td>\n",
       "      <td>1.334026</td>\n",
       "      <td>5250.142450</td>\n",
       "      <td>30.727750</td>\n",
       "      <td>-87.722071</td>\n",
       "      <td>0.955985</td>\n",
       "      <td>223234</td>\n",
       "      <td>1995.0</td>\n",
       "      <td>Alabama</td>\n",
       "      <td>42.519608</td>\n",
       "      <td>70.038275</td>\n",
       "      <td>13.340262</td>\n",
       "      <td>8.936811</td>\n",
       "    </tr>\n",
       "    <tr>\n",
       "      <th>2</th>\n",
       "      <td>481.0</td>\n",
       "      <td>0.019485</td>\n",
       "      <td>809</td>\n",
       "      <td>Barbour</td>\n",
       "      <td>9/17/20</td>\n",
       "      <td>0.283562</td>\n",
       "      <td>7</td>\n",
       "      <td>1005.0</td>\n",
       "      <td>1.948473</td>\n",
       "      <td>2342.890443</td>\n",
       "      <td>31.868263</td>\n",
       "      <td>-85.387129</td>\n",
       "      <td>0.865266</td>\n",
       "      <td>24686</td>\n",
       "      <td>321.0</td>\n",
       "      <td>Alabama</td>\n",
       "      <td>10.536558</td>\n",
       "      <td>45.650583</td>\n",
       "      <td>19.484728</td>\n",
       "      <td>13.003322</td>\n",
       "    </tr>\n",
       "    <tr>\n",
       "      <th>3</th>\n",
       "      <td>363.0</td>\n",
       "      <td>0.016210</td>\n",
       "      <td>617</td>\n",
       "      <td>Bibb</td>\n",
       "      <td>9/17/20</td>\n",
       "      <td>0.401893</td>\n",
       "      <td>9</td>\n",
       "      <td>1007.0</td>\n",
       "      <td>1.620970</td>\n",
       "      <td>1620.046620</td>\n",
       "      <td>32.996421</td>\n",
       "      <td>-87.125115</td>\n",
       "      <td>1.458671</td>\n",
       "      <td>22394</td>\n",
       "      <td>245.0</td>\n",
       "      <td>Alabama</td>\n",
       "      <td>13.823059</td>\n",
       "      <td>26.260468</td>\n",
       "      <td>16.209699</td>\n",
       "      <td>10.940430</td>\n",
       "    </tr>\n",
       "    <tr>\n",
       "      <th>4</th>\n",
       "      <td>893.0</td>\n",
       "      <td>0.015443</td>\n",
       "      <td>1504</td>\n",
       "      <td>Blount</td>\n",
       "      <td>9/17/20</td>\n",
       "      <td>0.224812</td>\n",
       "      <td>13</td>\n",
       "      <td>1009.0</td>\n",
       "      <td>1.544288</td>\n",
       "      <td>1685.185185</td>\n",
       "      <td>33.982109</td>\n",
       "      <td>-86.567906</td>\n",
       "      <td>0.864362</td>\n",
       "      <td>57826</td>\n",
       "      <td>598.0</td>\n",
       "      <td>Alabama</td>\n",
       "      <td>34.314330</td>\n",
       "      <td>26.024113</td>\n",
       "      <td>15.442880</td>\n",
       "      <td>10.341369</td>\n",
       "    </tr>\n",
       "  </tbody>\n",
       "</table>\n",
       "</div>"
      ],
      "text/plain": [
       "   Active  Active_by_pop  Confirmed   County     Date  Death_per_1000pop  \\\n",
       "0   955.0       0.017094       1624  Autauga  9/17/20           0.429576   \n",
       "1  2978.0       0.013340       5021  Baldwin  9/17/20           0.215021   \n",
       "2   481.0       0.019485        809  Barbour  9/17/20           0.283562   \n",
       "3   363.0       0.016210        617     Bibb  9/17/20           0.401893   \n",
       "4   893.0       0.015443       1504   Blount  9/17/20           0.224812   \n",
       "\n",
       "   Deaths    FIPS  Infection_Rate    Land Area        Lat       Long  \\\n",
       "0      24  1001.0        1.709356  1565.630666  32.539527 -86.644082   \n",
       "1      48  1003.0        1.334026  5250.142450  30.727750 -87.722071   \n",
       "2       7  1005.0        1.948473  2342.890443  31.868263 -85.387129   \n",
       "3       9  1007.0        1.620970  1620.046620  32.996421 -87.125115   \n",
       "4      13  1009.0        1.544288  1685.185185  33.982109 -86.567906   \n",
       "\n",
       "   Mortality_Rate  Population  Recovered    State  Pop_density  \\\n",
       "0        1.477833       55869      645.0  Alabama    35.684661   \n",
       "1        0.955985      223234     1995.0  Alabama    42.519608   \n",
       "2        0.865266       24686      321.0  Alabama    10.536558   \n",
       "3        1.458671       22394      245.0  Alabama    13.823059   \n",
       "4        0.864362       57826      598.0  Alabama    34.314330   \n",
       "\n",
       "   Active_case_per_pop_per_area  Active_per1000pop  Recovered_per_1000_pop  \n",
       "0                     26.762199          17.093558               11.544864  \n",
       "1                     70.038275          13.340262                8.936811  \n",
       "2                     45.650583          19.484728               13.003322  \n",
       "3                     26.260468          16.209699               10.940430  \n",
       "4                     26.024113          15.442880               10.341369  "
      ]
     },
     "execution_count": 2,
     "metadata": {},
     "output_type": "execute_result"
    }
   ],
   "source": [
    "data = pd.read_csv('us_covid_clean_data_finalv2.csv')\n",
    "data.head()"
   ]
  },
  {
   "cell_type": "code",
   "execution_count": 3,
   "metadata": {
    "ExecuteTime": {
     "end_time": "2020-10-29T23:17:52.482274Z",
     "start_time": "2020-10-29T23:17:52.447273Z"
    }
   },
   "outputs": [],
   "source": [
    "moving_average = pd.read_csv('us_moving_avg.csv')\n",
    "moving_average = moving_average.rename(columns = {'Confirmed':'Average_14days'})"
   ]
  },
  {
   "cell_type": "code",
   "execution_count": 4,
   "metadata": {
    "ExecuteTime": {
     "end_time": "2020-10-29T23:17:53.773336Z",
     "start_time": "2020-10-29T23:17:53.746369Z"
    }
   },
   "outputs": [
    {
     "data": {
      "text/plain": [
       "(3130, 23)"
      ]
     },
     "execution_count": 4,
     "metadata": {},
     "output_type": "execute_result"
    }
   ],
   "source": [
    "df = data.merge(moving_average,how = 'left',left_on = ['State','County'],right_on = ['state','county'])\n",
    "df.shape"
   ]
  },
  {
   "cell_type": "code",
   "execution_count": 5,
   "metadata": {
    "ExecuteTime": {
     "end_time": "2020-10-29T23:17:55.142383Z",
     "start_time": "2020-10-29T23:17:55.089386Z"
    }
   },
   "outputs": [
    {
     "data": {
      "text/html": [
       "<div>\n",
       "<style scoped>\n",
       "    .dataframe tbody tr th:only-of-type {\n",
       "        vertical-align: middle;\n",
       "    }\n",
       "\n",
       "    .dataframe tbody tr th {\n",
       "        vertical-align: top;\n",
       "    }\n",
       "\n",
       "    .dataframe thead th {\n",
       "        text-align: right;\n",
       "    }\n",
       "</style>\n",
       "<table border=\"1\" class=\"dataframe\">\n",
       "  <thead>\n",
       "    <tr style=\"text-align: right;\">\n",
       "      <th></th>\n",
       "      <th>Active</th>\n",
       "      <th>Active_by_pop</th>\n",
       "      <th>Confirmed</th>\n",
       "      <th>County</th>\n",
       "      <th>Date</th>\n",
       "      <th>Death_per_1000pop</th>\n",
       "      <th>Deaths</th>\n",
       "      <th>FIPS</th>\n",
       "      <th>Infection_Rate</th>\n",
       "      <th>Land Area</th>\n",
       "      <th>...</th>\n",
       "      <th>Population</th>\n",
       "      <th>Recovered</th>\n",
       "      <th>State</th>\n",
       "      <th>Pop_density</th>\n",
       "      <th>Active_case_per_pop_per_area</th>\n",
       "      <th>Active_per1000pop</th>\n",
       "      <th>Recovered_per_1000_pop</th>\n",
       "      <th>state</th>\n",
       "      <th>county</th>\n",
       "      <th>average</th>\n",
       "    </tr>\n",
       "  </thead>\n",
       "  <tbody>\n",
       "    <tr>\n",
       "      <th>0</th>\n",
       "      <td>955.0</td>\n",
       "      <td>0.017094</td>\n",
       "      <td>1624</td>\n",
       "      <td>Autauga</td>\n",
       "      <td>9/17/20</td>\n",
       "      <td>0.429576</td>\n",
       "      <td>24</td>\n",
       "      <td>1001.0</td>\n",
       "      <td>1.709356</td>\n",
       "      <td>1565.630666</td>\n",
       "      <td>...</td>\n",
       "      <td>55869</td>\n",
       "      <td>645.0</td>\n",
       "      <td>Alabama</td>\n",
       "      <td>35.684661</td>\n",
       "      <td>26.762199</td>\n",
       "      <td>17.093558</td>\n",
       "      <td>11.544864</td>\n",
       "      <td>Alabama</td>\n",
       "      <td>Autauga</td>\n",
       "      <td>19.642857</td>\n",
       "    </tr>\n",
       "    <tr>\n",
       "      <th>1</th>\n",
       "      <td>2978.0</td>\n",
       "      <td>0.013340</td>\n",
       "      <td>5021</td>\n",
       "      <td>Baldwin</td>\n",
       "      <td>9/17/20</td>\n",
       "      <td>0.215021</td>\n",
       "      <td>48</td>\n",
       "      <td>1003.0</td>\n",
       "      <td>1.334026</td>\n",
       "      <td>5250.142450</td>\n",
       "      <td>...</td>\n",
       "      <td>223234</td>\n",
       "      <td>1995.0</td>\n",
       "      <td>Alabama</td>\n",
       "      <td>42.519608</td>\n",
       "      <td>70.038275</td>\n",
       "      <td>13.340262</td>\n",
       "      <td>8.936811</td>\n",
       "      <td>Alabama</td>\n",
       "      <td>Baldwin</td>\n",
       "      <td>37.571429</td>\n",
       "    </tr>\n",
       "    <tr>\n",
       "      <th>2</th>\n",
       "      <td>481.0</td>\n",
       "      <td>0.019485</td>\n",
       "      <td>809</td>\n",
       "      <td>Barbour</td>\n",
       "      <td>9/17/20</td>\n",
       "      <td>0.283562</td>\n",
       "      <td>7</td>\n",
       "      <td>1005.0</td>\n",
       "      <td>1.948473</td>\n",
       "      <td>2342.890443</td>\n",
       "      <td>...</td>\n",
       "      <td>24686</td>\n",
       "      <td>321.0</td>\n",
       "      <td>Alabama</td>\n",
       "      <td>10.536558</td>\n",
       "      <td>45.650583</td>\n",
       "      <td>19.484728</td>\n",
       "      <td>13.003322</td>\n",
       "      <td>Alabama</td>\n",
       "      <td>Barbour</td>\n",
       "      <td>13.928571</td>\n",
       "    </tr>\n",
       "    <tr>\n",
       "      <th>3</th>\n",
       "      <td>363.0</td>\n",
       "      <td>0.016210</td>\n",
       "      <td>617</td>\n",
       "      <td>Bibb</td>\n",
       "      <td>9/17/20</td>\n",
       "      <td>0.401893</td>\n",
       "      <td>9</td>\n",
       "      <td>1007.0</td>\n",
       "      <td>1.620970</td>\n",
       "      <td>1620.046620</td>\n",
       "      <td>...</td>\n",
       "      <td>22394</td>\n",
       "      <td>245.0</td>\n",
       "      <td>Alabama</td>\n",
       "      <td>13.823059</td>\n",
       "      <td>26.260468</td>\n",
       "      <td>16.209699</td>\n",
       "      <td>10.940430</td>\n",
       "      <td>Alabama</td>\n",
       "      <td>Bibb</td>\n",
       "      <td>5.357143</td>\n",
       "    </tr>\n",
       "    <tr>\n",
       "      <th>4</th>\n",
       "      <td>893.0</td>\n",
       "      <td>0.015443</td>\n",
       "      <td>1504</td>\n",
       "      <td>Blount</td>\n",
       "      <td>9/17/20</td>\n",
       "      <td>0.224812</td>\n",
       "      <td>13</td>\n",
       "      <td>1009.0</td>\n",
       "      <td>1.544288</td>\n",
       "      <td>1685.185185</td>\n",
       "      <td>...</td>\n",
       "      <td>57826</td>\n",
       "      <td>598.0</td>\n",
       "      <td>Alabama</td>\n",
       "      <td>34.314330</td>\n",
       "      <td>26.024113</td>\n",
       "      <td>15.442880</td>\n",
       "      <td>10.341369</td>\n",
       "      <td>Alabama</td>\n",
       "      <td>Blount</td>\n",
       "      <td>33.357143</td>\n",
       "    </tr>\n",
       "  </tbody>\n",
       "</table>\n",
       "<p>5 rows × 23 columns</p>\n",
       "</div>"
      ],
      "text/plain": [
       "   Active  Active_by_pop  Confirmed   County     Date  Death_per_1000pop  \\\n",
       "0   955.0       0.017094       1624  Autauga  9/17/20           0.429576   \n",
       "1  2978.0       0.013340       5021  Baldwin  9/17/20           0.215021   \n",
       "2   481.0       0.019485        809  Barbour  9/17/20           0.283562   \n",
       "3   363.0       0.016210        617     Bibb  9/17/20           0.401893   \n",
       "4   893.0       0.015443       1504   Blount  9/17/20           0.224812   \n",
       "\n",
       "   Deaths    FIPS  Infection_Rate    Land Area  ...  Population  Recovered  \\\n",
       "0      24  1001.0        1.709356  1565.630666  ...       55869      645.0   \n",
       "1      48  1003.0        1.334026  5250.142450  ...      223234     1995.0   \n",
       "2       7  1005.0        1.948473  2342.890443  ...       24686      321.0   \n",
       "3       9  1007.0        1.620970  1620.046620  ...       22394      245.0   \n",
       "4      13  1009.0        1.544288  1685.185185  ...       57826      598.0   \n",
       "\n",
       "     State  Pop_density  Active_case_per_pop_per_area Active_per1000pop  \\\n",
       "0  Alabama    35.684661                     26.762199         17.093558   \n",
       "1  Alabama    42.519608                     70.038275         13.340262   \n",
       "2  Alabama    10.536558                     45.650583         19.484728   \n",
       "3  Alabama    13.823059                     26.260468         16.209699   \n",
       "4  Alabama    34.314330                     26.024113         15.442880   \n",
       "\n",
       "   Recovered_per_1000_pop    state   county    average  \n",
       "0               11.544864  Alabama  Autauga  19.642857  \n",
       "1                8.936811  Alabama  Baldwin  37.571429  \n",
       "2               13.003322  Alabama  Barbour  13.928571  \n",
       "3               10.940430  Alabama     Bibb   5.357143  \n",
       "4               10.341369  Alabama   Blount  33.357143  \n",
       "\n",
       "[5 rows x 23 columns]"
      ]
     },
     "execution_count": 5,
     "metadata": {},
     "output_type": "execute_result"
    }
   ],
   "source": [
    "df.head()"
   ]
  },
  {
   "cell_type": "code",
   "execution_count": 6,
   "metadata": {
    "ExecuteTime": {
     "end_time": "2020-10-29T23:17:56.952416Z",
     "start_time": "2020-10-29T23:17:56.938415Z"
    }
   },
   "outputs": [
    {
     "data": {
      "text/plain": [
       "Active                           0\n",
       "Active_by_pop                    0\n",
       "Confirmed                        0\n",
       "County                           0\n",
       "Date                             0\n",
       "Death_per_1000pop                0\n",
       "Deaths                           0\n",
       "FIPS                             0\n",
       "Infection_Rate                   0\n",
       "Land Area                        0\n",
       "Lat                              0\n",
       "Long                             0\n",
       "Mortality_Rate                  38\n",
       "Population                       0\n",
       "Recovered                        0\n",
       "State                            0\n",
       "Pop_density                      0\n",
       "Active_case_per_pop_per_area     0\n",
       "Active_per1000pop                0\n",
       "Recovered_per_1000_pop           0\n",
       "state                            0\n",
       "county                           0\n",
       "average                          0\n",
       "dtype: int64"
      ]
     },
     "execution_count": 6,
     "metadata": {},
     "output_type": "execute_result"
    }
   ],
   "source": [
    "df.isna().sum()"
   ]
  },
  {
   "cell_type": "code",
   "execution_count": 7,
   "metadata": {
    "ExecuteTime": {
     "end_time": "2020-10-29T23:17:59.169242Z",
     "start_time": "2020-10-29T23:17:59.144243Z"
    }
   },
   "outputs": [],
   "source": [
    "df[df['average']<0] = 0"
   ]
  },
  {
   "cell_type": "code",
   "execution_count": 8,
   "metadata": {
    "ExecuteTime": {
     "end_time": "2020-10-29T23:18:00.939307Z",
     "start_time": "2020-10-29T23:18:00.934305Z"
    }
   },
   "outputs": [],
   "source": [
    "cluster_df = df[['Active_per1000pop','Pop_density','average']]"
   ]
  },
  {
   "cell_type": "code",
   "execution_count": 9,
   "metadata": {
    "ExecuteTime": {
     "end_time": "2020-10-29T23:18:02.200419Z",
     "start_time": "2020-10-29T23:18:02.176423Z"
    }
   },
   "outputs": [
    {
     "data": {
      "text/html": [
       "<div>\n",
       "<style scoped>\n",
       "    .dataframe tbody tr th:only-of-type {\n",
       "        vertical-align: middle;\n",
       "    }\n",
       "\n",
       "    .dataframe tbody tr th {\n",
       "        vertical-align: top;\n",
       "    }\n",
       "\n",
       "    .dataframe thead th {\n",
       "        text-align: right;\n",
       "    }\n",
       "</style>\n",
       "<table border=\"1\" class=\"dataframe\">\n",
       "  <thead>\n",
       "    <tr style=\"text-align: right;\">\n",
       "      <th></th>\n",
       "      <th>Active_per1000pop</th>\n",
       "      <th>Pop_density</th>\n",
       "      <th>average</th>\n",
       "    </tr>\n",
       "  </thead>\n",
       "  <tbody>\n",
       "    <tr>\n",
       "      <th>0</th>\n",
       "      <td>1.285717</td>\n",
       "      <td>-0.101190</td>\n",
       "      <td>0.213237</td>\n",
       "    </tr>\n",
       "    <tr>\n",
       "      <th>1</th>\n",
       "      <td>0.821808</td>\n",
       "      <td>-0.087072</td>\n",
       "      <td>0.709582</td>\n",
       "    </tr>\n",
       "    <tr>\n",
       "      <th>2</th>\n",
       "      <td>1.581267</td>\n",
       "      <td>-0.153133</td>\n",
       "      <td>0.055040</td>\n",
       "    </tr>\n",
       "    <tr>\n",
       "      <th>3</th>\n",
       "      <td>1.176472</td>\n",
       "      <td>-0.146345</td>\n",
       "      <td>-0.182256</td>\n",
       "    </tr>\n",
       "    <tr>\n",
       "      <th>4</th>\n",
       "      <td>1.081693</td>\n",
       "      <td>-0.104020</td>\n",
       "      <td>0.592911</td>\n",
       "    </tr>\n",
       "  </tbody>\n",
       "</table>\n",
       "</div>"
      ],
      "text/plain": [
       "   Active_per1000pop  Pop_density   average\n",
       "0           1.285717    -0.101190  0.213237\n",
       "1           0.821808    -0.087072  0.709582\n",
       "2           1.581267    -0.153133  0.055040\n",
       "3           1.176472    -0.146345 -0.182256\n",
       "4           1.081693    -0.104020  0.592911"
      ]
     },
     "execution_count": 9,
     "metadata": {},
     "output_type": "execute_result"
    }
   ],
   "source": [
    "scaler = StandardScaler()\n",
    "scaled_data = scaler.fit_transform(cluster_df)\n",
    "scaled_data = pd.DataFrame(scaled_data,columns=cluster_df.columns)\n",
    "scaled_data.head()"
   ]
  },
  {
   "cell_type": "code",
   "execution_count": 52,
   "metadata": {
    "ExecuteTime": {
     "end_time": "2020-10-19T13:32:46.089742Z",
     "start_time": "2020-10-19T13:29:52.601044Z"
    }
   },
   "outputs": [
    {
     "data": {
      "image/png": "[encoded data removed]",
      "text/plain": [
       "<Figure size 1440x1440 with 1 Axes>"
      ]
     },
     "metadata": {},
     "output_type": "display_data"
    }
   ],
   "source": [
    "#sns.set_style('darkgrid')\n",
    "plt.figure(figsize=(20, 20))  \n",
    "plt.title(\"Dendrograms\",fontsize=18)\n",
    "dend = shc.dendrogram(shc.linkage(scaled_data, method='ward'),orientation='top')\n",
    "plt.axhline(y=19.5, color='r', linestyle='--')\n",
    "plt.xlabel(' ')\n",
    "plt.show()"
   ]
  },
  {
   "cell_type": "code",
   "execution_count": 11,
   "metadata": {
    "ExecuteTime": {
     "end_time": "2020-10-23T07:25:39.503596Z",
     "start_time": "2020-10-23T07:25:35.227474Z"
    }
   },
   "outputs": [
    {
     "name": "stdout",
     "output_type": "stream",
     "text": [
      "Silhoutte Score for 2 clusters is : 0.6060115658716698\n",
      "Silhoutte Score for 3 clusters is : 0.609017172843021\n",
      "Silhoutte Score for 4 clusters is : 0.6116831822949296\n",
      "Silhoutte Score for 5 clusters is : 0.6290030110546849\n",
      "Silhoutte Score for 6 clusters is : 0.6021662488909656\n",
      "Silhoutte Score for 7 clusters is : 0.6088687791801909\n",
      "Silhoutte Score for 8 clusters is : 0.6090872151521146\n",
      "Silhoutte Score for 9 clusters is : 0.43892498174089584\n"
     ]
    }
   ],
   "source": [
    "for i in range(2,10):\n",
    "    cluster = AgglomerativeClustering(n_clusters=i,linkage='ward').fit(scaled_data)\n",
    "    labels = cluster.labels_\n",
    "    score = silhouette_score(scaled_data,labels)\n",
    "    print('Silhoutte Score for {} clusters is : {}'.format(i,score))"
   ]
  },
  {
   "cell_type": "code",
   "execution_count": 10,
   "metadata": {
    "ExecuteTime": {
     "end_time": "2020-10-29T23:18:07.169454Z",
     "start_time": "2020-10-29T23:18:06.728655Z"
    }
   },
   "outputs": [
    {
     "data": {
      "text/plain": [
       "AgglomerativeClustering(affinity='euclidean', compute_full_tree='auto',\n",
       "                        connectivity=None, distance_threshold=None,\n",
       "                        linkage='ward', memory=None, n_clusters=5)"
      ]
     },
     "execution_count": 10,
     "metadata": {},
     "output_type": "execute_result"
    }
   ],
   "source": [
    "cluster = AgglomerativeClustering(n_clusters=5,linkage='ward').fit(scaled_data)\n",
    "cluster"
   ]
  },
  {
   "cell_type": "code",
   "execution_count": 11,
   "metadata": {
    "ExecuteTime": {
     "end_time": "2020-10-29T23:18:08.663121Z",
     "start_time": "2020-10-29T23:18:08.382009Z"
    }
   },
   "outputs": [],
   "source": [
    "labels = cluster.labels_\n",
    "score = silhouette_score(scaled_data,labels)\n",
    "df['Cluster_labels'] = labels"
   ]
  },
  {
   "cell_type": "code",
   "execution_count": 13,
   "metadata": {
    "ExecuteTime": {
     "end_time": "2020-10-29T23:18:13.372288Z",
     "start_time": "2020-10-29T23:18:12.969185Z"
    }
   },
   "outputs": [
    {
     "data": {
      "image/png": "[encoded data removed]",
      "text/plain": [
       "<Figure size 1440x720 with 1 Axes>"
      ]
     },
     "metadata": {
      "needs_background": "light"
     },
     "output_type": "display_data"
    }
   ],
   "source": [
    "plt.figure(figsize=(20,10))\n",
    "sns.boxplot(x = df['Cluster_labels'], y = df['Active_per1000pop'])\n",
    "plt.title('Active Cases per 1000 people on different Clusters',fontsize=18)\n",
    "plt.savefig('active_cluster.png');"
   ]
  },
  {
   "cell_type": "code",
   "execution_count": 45,
   "metadata": {
    "ExecuteTime": {
     "end_time": "2020-10-19T13:21:18.156153Z",
     "start_time": "2020-10-19T13:21:17.572813Z"
    }
   },
   "outputs": [
    {
     "data": {
      "text/plain": [
       "<matplotlib.axes._subplots.AxesSubplot at 0x2d9c0172470>"
      ]
     },
     "execution_count": 45,
     "metadata": {},
     "output_type": "execute_result"
    },
    {
     "data": {
      "image/png": "[encoded data removed]",
      "text/plain": [
       "<Figure size 1440x720 with 1 Axes>"
      ]
     },
     "metadata": {},
     "output_type": "display_data"
    }
   ],
   "source": [
    "plt.figure(figsize=(20,10))\n",
    "sns.boxplot(x = df['Cluster_labels'], y = df['Pop_density'])"
   ]
  },
  {
   "cell_type": "code",
   "execution_count": 49,
   "metadata": {
    "ExecuteTime": {
     "end_time": "2020-10-19T13:22:22.914113Z",
     "start_time": "2020-10-19T13:22:22.146402Z"
    }
   },
   "outputs": [
    {
     "data": {
      "image/png": "[encoded data removed]",
      "text/plain": [
       "<Figure size 1440x720 with 1 Axes>"
      ]
     },
     "metadata": {},
     "output_type": "display_data"
    }
   ],
   "source": [
    "plt.figure(figsize=(20,10))\n",
    "sns.boxplot(x = df['Cluster_labels'], y = df['average'])\n",
    "plt.title('14 day average cases on different clusters',fontsize=18)\n",
    "plt.savefig('averge_clusters.png');"
   ]
  },
  {
   "cell_type": "code",
   "execution_count": 50,
   "metadata": {
    "ExecuteTime": {
     "end_time": "2020-10-19T13:22:28.290078Z",
     "start_time": "2020-10-19T13:22:27.101574Z"
    }
   },
   "outputs": [
    {
     "data": {
      "image/png": "[encoded data removed]",
      "text/plain": [
       "<Figure size 864x576 with 1 Axes>"
      ]
     },
     "metadata": {},
     "output_type": "display_data"
    }
   ],
   "source": [
    "plt.figure(figsize=(12,8))\n",
    "sns.set_style('darkgrid')\n",
    "sns.scatterplot(x = 'average',y = 'Active_per1000pop',hue = 'Cluster_labels', data = df,palette='gnuplot',legend=\"full\");"
   ]
  },
  {
   "cell_type": "code",
   "execution_count": 23,
   "metadata": {
    "ExecuteTime": {
     "end_time": "2020-10-23T07:27:31.126356Z",
     "start_time": "2020-10-23T07:27:31.115347Z"
    }
   },
   "outputs": [
    {
     "data": {
      "text/plain": [
       "173144190"
      ]
     },
     "execution_count": 23,
     "metadata": {},
     "output_type": "execute_result"
    }
   ],
   "source": [
    "df[(df['Cluster_labels']==0) | (df['Cluster_labels']==1)]['Population'].sum()"
   ]
  },
  {
   "cell_type": "code",
   "execution_count": 14,
   "metadata": {
    "ExecuteTime": {
     "end_time": "2020-10-29T23:18:45.034171Z",
     "start_time": "2020-10-29T23:18:45.002135Z"
    }
   },
   "outputs": [
    {
     "data": {
      "text/html": [
       "<div>\n",
       "<style scoped>\n",
       "    .dataframe tbody tr th:only-of-type {\n",
       "        vertical-align: middle;\n",
       "    }\n",
       "\n",
       "    .dataframe tbody tr th {\n",
       "        vertical-align: top;\n",
       "    }\n",
       "\n",
       "    .dataframe thead th {\n",
       "        text-align: right;\n",
       "    }\n",
       "</style>\n",
       "<table border=\"1\" class=\"dataframe\">\n",
       "  <thead>\n",
       "    <tr style=\"text-align: right;\">\n",
       "      <th></th>\n",
       "      <th>Cluster_labels</th>\n",
       "      <th>Population</th>\n",
       "    </tr>\n",
       "  </thead>\n",
       "  <tbody>\n",
       "    <tr>\n",
       "      <th>0</th>\n",
       "      <td>0</td>\n",
       "      <td>59473755</td>\n",
       "    </tr>\n",
       "    <tr>\n",
       "      <th>1</th>\n",
       "      <td>1</td>\n",
       "      <td>113670435</td>\n",
       "    </tr>\n",
       "    <tr>\n",
       "      <th>2</th>\n",
       "      <td>2</td>\n",
       "      <td>5606816</td>\n",
       "    </tr>\n",
       "    <tr>\n",
       "      <th>3</th>\n",
       "      <td>3</td>\n",
       "      <td>19902665</td>\n",
       "    </tr>\n",
       "    <tr>\n",
       "      <th>4</th>\n",
       "      <td>4</td>\n",
       "      <td>127277229</td>\n",
       "    </tr>\n",
       "  </tbody>\n",
       "</table>\n",
       "</div>"
      ],
      "text/plain": [
       "   Cluster_labels  Population\n",
       "0               0    59473755\n",
       "1               1   113670435\n",
       "2               2     5606816\n",
       "3               3    19902665\n",
       "4               4   127277229"
      ]
     },
     "execution_count": 14,
     "metadata": {},
     "output_type": "execute_result"
    }
   ],
   "source": [
    "df.groupby('Cluster_labels',as_index=0)['Population'].sum()"
   ]
  },
  {
   "cell_type": "code",
   "execution_count": null,
   "metadata": {
    "ExecuteTime": {
     "end_time": "2020-09-22T03:46:32.968958Z",
     "start_time": "2020-09-22T03:46:32.669745Z"
    }
   },
   "outputs": [],
   "source": [
    "df.to_csv('covid_resuls_v1.csv',index=False)"
   ]
  },
  {
   "cell_type": "code",
   "execution_count": null,
   "metadata": {
    "ExecuteTime": {
     "end_time": "2020-09-22T03:51:03.959744Z",
     "start_time": "2020-09-22T03:51:03.882119Z"
    }
   },
   "outputs": [],
   "source": [
    "def plot_scatterplot_map(df,long,lat,text,sizes,values,color_bar_title,title):\n",
    "    figure = go.Figure(data=go.Scattergeo(\n",
    "        lon = long,\n",
    "        lat = lat,\n",
    "        text = text,\n",
    "        mode = 'markers',\n",
    "        marker_color = values,\n",
    "        marker = dict(\n",
    "            size = values/sizes,\n",
    "            opacity = 0.7,\n",
    "            reversescale = False,\n",
    "            autocolorscale = False,\n",
    "            line = dict(\n",
    "                width=1,\n",
    "                color='rgba(10, 12, 12)'\n",
    "            ),colorscale = 'Reds',\n",
    "            cmin = 0,\n",
    "            sizemode = 'area',\n",
    "            color = values,\n",
    "            cmax = values.max(),\n",
    "            colorbar_title = color_bar_title\n",
    "        )\n",
    "        \n",
    "        ))\n",
    "    figure.update_layout(\n",
    "            title = title,\n",
    "            geo = dict(\n",
    "                scope = 'usa',\n",
    "                projection_type = 'albers usa',\n",
    "                showland = True,\n",
    "                landcolor = 'rgb(10, 150, 150)',\n",
    "            ))\n",
    "    return figure.show()"
   ]
  },
  {
   "cell_type": "code",
   "execution_count": null,
   "metadata": {
    "ExecuteTime": {
     "end_time": "2020-09-22T03:52:07.067634Z",
     "start_time": "2020-09-22T03:52:07.017406Z"
    }
   },
   "outputs": [],
   "source": [
    "df.columns"
   ]
  },
  {
   "cell_type": "code",
   "execution_count": null,
   "metadata": {
    "ExecuteTime": {
     "end_time": "2020-09-22T10:15:21.920895Z",
     "start_time": "2020-09-22T10:01:50.498378Z"
    }
   },
   "outputs": [],
   "source": [
    "df['FIPS'] = df['FIPS'].astype(int).astype(str)\n",
    "for fips in df['FIPS']:\n",
    "    df.loc[df['FIPS'].str.startswith('6')]['FIPS'] = '0' + fips\n",
    "    \n",
    "    "
   ]
  },
  {
   "cell_type": "code",
   "execution_count": null,
   "metadata": {
    "ExecuteTime": {
     "end_time": "2020-09-22T08:09:52.774093Z",
     "start_time": "2020-09-22T08:09:52.472094Z"
    }
   },
   "outputs": [],
   "source": [
    "import plotly\n",
    "import plotly.graph_objs as go\n",
    "plotly.offline.init_notebook_mode = True\n",
    "#df['text'] = df['County'] + ' ' + 'Active Cases per 1000 population: ' + df['Active_per1000pop'].astype(str)\n",
    "figure = go.Figure(data=go.Scattergeo(\n",
    "        lon = df['Long'],\n",
    "        lat = df['Lat'],\n",
    "        #text = df['text'],\n",
    "        mode = 'markers',\n",
    "        marker_color = df['Cluster_labels'],\n",
    "        marker = dict(\n",
    "            size = df['Active_per1000pop']/0.5,\n",
    "            opacity = 0.8,\n",
    "            reversescale = True,\n",
    "            autocolorscale = False,\n",
    "            line = dict(\n",
    "                width=1,\n",
    "                color='rgba(10, 12, 12)'\n",
    "            ),colorscale = 'Blues',\n",
    "            cmin = 0,\n",
    "            sizemode = 'area',\n",
    "            color = df['Cluster_labels'],\n",
    "            #cmax = df['Active_per1000pop'].max(),\n",
    "            #colorbar_title = 'Active Cases'\n",
    "        )\n",
    "        \n",
    "        ))\n",
    "figure.update_layout(\n",
    "        title = 'COVID-19 Clusters',\n",
    "        geo = dict(\n",
    "            scope = 'usa',\n",
    "            projection_type = 'albers usa',\n",
    "            showland = True,\n",
    "            landcolor = 'rgb(10, 150, 150)',\n",
    "        ))\n",
    "figure.show()"
   ]
  },
  {
   "cell_type": "code",
   "execution_count": null,
   "metadata": {
    "ExecuteTime": {
     "end_time": "2020-09-22T07:18:06.618753Z",
     "start_time": "2020-09-22T07:18:04.472166Z"
    }
   },
   "outputs": [],
   "source": [
    "# df['text'] = df['name'] + '<br>Population ' + (df['pop']/1e6).astype(str)+' million'\n",
    "limits = [(0),(1),(2),(3),(4)]\n",
    "colors = [\"royalblue\",\"crimson\",\"lightseagreen\",\"orange\",\"lightgrey\"]\n",
    "cities = []\n",
    "scale = 0.5\n",
    "\n",
    "fig = go.Figure()\n",
    "\n",
    "for i in range(len(limits)):\n",
    "    lim = limits[i]\n",
    "    df_sub = df[lim[0]:lim[1]]\n",
    "    fig.add_trace(go.Scattergeo(\n",
    "        locationmode = 'USA-states',\n",
    "        lon = df_sub['Long'],\n",
    "        lat = df_sub['Lat'],\n",
    "        text = df_sub['text'],\n",
    "        marker = dict(\n",
    "            size = df_sub['Active_per1000pop']/scale,\n",
    "            color = colors[i],\n",
    "            line_color='rgb(40,40,40)',\n",
    "            line_width=0.5,\n",
    "            sizemode = 'area'\n",
    "        ),\n",
    "        name = '{0} - {1}'.format(lim[0],lim[1])))\n",
    "\n",
    "fig.update_layout(\n",
    "        title_text = '2014 US city populations<br>(Click legend to toggle traces)',\n",
    "        showlegend = True,\n",
    "        geo = dict(\n",
    "            scope = 'usa',\n",
    "            landcolor = 'rgb(217, 217, 217)',\n",
    "        )\n",
    "    )\n",
    "\n",
    "fig.show()"
   ]
  },
  {
   "cell_type": "code",
   "execution_count": null,
   "metadata": {
    "ExecuteTime": {
     "end_time": "2020-09-23T08:48:54.883778Z",
     "start_time": "2020-09-23T08:48:54.759781Z"
    }
   },
   "outputs": [],
   "source": [
    "data = df[['County','State','FIPS','Lat','Long','Active_per1000pop','Pop_density','average','Cluster_labels']]\n",
    "data.head()"
   ]
  },
  {
   "cell_type": "code",
   "execution_count": null,
   "metadata": {
    "ExecuteTime": {
     "end_time": "2020-09-22T07:25:19.392475Z",
     "start_time": "2020-09-22T07:25:19.105462Z"
    }
   },
   "outputs": [],
   "source": [
    "plt.figure(figsize=(20,10))\n",
    "sns.boxplot(x = 'Cluster_labels',y = 'Active_per1000pop',data = data);"
   ]
  },
  {
   "cell_type": "code",
   "execution_count": null,
   "metadata": {
    "ExecuteTime": {
     "end_time": "2020-09-22T07:30:30.729996Z",
     "start_time": "2020-09-22T07:30:27.690311Z"
    }
   },
   "outputs": [],
   "source": [
    "import folium\n",
    "latitude = 38.500000\n",
    "longitude = -95.665\n",
    "\n",
    "map_USA = folium.Map(location=[latitude, longitude], zoom_start=4)\n",
    "\n",
    "map_USA"
   ]
  },
  {
   "cell_type": "code",
   "execution_count": null,
   "metadata": {
    "ExecuteTime": {
     "end_time": "2020-09-22T07:37:42.104445Z",
     "start_time": "2020-09-22T07:37:38.985708Z"
    }
   },
   "outputs": [],
   "source": [
    "occurences = folium.map.FeatureGroup()\n",
    "n_mean = data['Active_per1000pop'].mean()\n",
    "\n",
    "for lat, lng, cluster, county, state in zip(data['Lat'], data['Long'],  \n",
    "                                            data['Cluster_labels'],\n",
    "                                         data['County'],\n",
    "                                         data['State'],):\n",
    "    occurences.add_child(\n",
    "        folium.vector_layers.CircleMarker(\n",
    "            [lat, lng],\n",
    "            #radius=number/n_mean*5, # define how big you want the circle markers to be\n",
    "            color='yellow',\n",
    "            fill=True,\n",
    "            fill_color='blue',\n",
    "            fill_opacity=0.6,\n",
    "            tooltip = str(cluster)+','+str(county) +','+ str(state)\n",
    "        )\n",
    "    )\n",
    "\n",
    "map_USA.add_child(occurences)"
   ]
  },
  {
   "cell_type": "code",
   "execution_count": null,
   "metadata": {
    "ExecuteTime": {
     "end_time": "2020-09-22T07:39:56.905023Z",
     "start_time": "2020-09-22T07:39:53.242174Z"
    }
   },
   "outputs": [],
   "source": [
    "import matplotlib.cm as cm\n",
    "import matplotlib.colors as colors\n",
    "import folium\n",
    "\n",
    "latitude = 38.500000\n",
    "longitude = -95.665\n",
    "\n",
    "map_clusters = folium.Map(location=[latitude, longitude], zoom_start=4)\n",
    "\n",
    "# set color scheme for the clusters\n",
    "x = np.arange(4)\n",
    "ys = [i + x + (i*x)**2 for i in range(6)]\n",
    "colors_array = cm.rainbow(np.linspace(0, 1, len(ys)))\n",
    "rainbow = [colors.rgb2hex(i) for i in colors_array]\n",
    "\n",
    "# add markers to the map\n",
    "markers_colors = []\n",
    "for lat, lng, cluster, county, state in zip(data['Lat'], data['Long'],  \n",
    "                                            data['Cluster_labels'],\n",
    "                                         data['County'],\n",
    "                                         data['State']):\n",
    "    #label = folium.Popup(str(city)+ ','+str(state) + '- Cluster ' + str(cluster), parse_html=True)\n",
    "    folium.vector_layers.CircleMarker(\n",
    "        [lat, lng],\n",
    "        radius=5,\n",
    "        #popup=label,\n",
    "        tooltip = str(county)+ ','+str(state) + '- Cluster ' + str(cluster),\n",
    "        color=rainbow[cluster-1],\n",
    "        fill=True,\n",
    "        fill_color=rainbow[cluster-1],\n",
    "        fill_opacity=0.9).add_to(map_clusters)\n",
    "       \n",
    "map_clusters"
   ]
  },
  {
   "cell_type": "code",
   "execution_count": null,
   "metadata": {
    "ExecuteTime": {
     "end_time": "2020-09-23T08:51:18.482946Z",
     "start_time": "2020-09-23T08:51:16.418075Z"
    }
   },
   "outputs": [],
   "source": [
    "from urllib.request import urlopen\n",
    "import plotly.express as px\n",
    "import json\n",
    "# with urlopen('https://raw.githubusercontent.com/plotly/datasets/master/geojson-counties-fips.json') as response:\n",
    "#     counties = json.load(response)\n",
    "\n",
    "# fig = px.choropleth(data, geojson=counties, locations='FIPS', color='Cluster_labels',\n",
    "#                       color_continuous_scale=\"Viridis\",\n",
    "#                       range_color=(0, 4),\n",
    "#                        scope=\"usa\",\n",
    "#                        labels={'Clutser':'Cluster_labels'}\n",
    "#                       )\n",
    "# fig.update_layout(margin={\"r\":0,\"t\":0,\"l\":0,\"b\":0})\n",
    "# fig.show()\n",
    "\n",
    "with urlopen('https://raw.githubusercontent.com/plotly/datasets/master/geojson-counties-fips.json') as response:\n",
    "    counties = json.load(response)\n",
    "\n",
    "data['FIPS'] = data['FIPS'].astype(int).astype(str)\n",
    "\n",
    "fig = px.choropleth(data, geojson=counties, locations='FIPS', color='Cluster_labels',\n",
    "                           color_continuous_scale=\"Viridis\",\n",
    "                           range_color=(0, 12),\n",
    "                           scope=\"usa\",\n",
    "                           labels={'unemp':'unemployment rate'}\n",
    "                          )\n",
    "fig.update_layout(margin={\"r\":0,\"t\":0,\"l\":0,\"b\":0})\n",
    "fig.show()"
   ]
  },
  {
   "cell_type": "code",
   "execution_count": null,
   "metadata": {
    "ExecuteTime": {
     "end_time": "2020-09-23T08:53:41.862846Z",
     "start_time": "2020-09-23T08:53:39.998973Z"
    }
   },
   "outputs": [],
   "source": [
    "with urlopen('https://raw.githubusercontent.com/plotly/datasets/master/geojson-counties-fips.json') as response:\n",
    "    counties = json.load(response)\n",
    "\n",
    "\n",
    "df = pd.read_csv(\"https://raw.githubusercontent.com/plotly/datasets/master/fips-unemp-16.csv\",\n",
    "                   dtype={\"fips\": str})\n",
    "\n",
    "\n",
    "\n",
    "fig = px.choropleth(df, geojson=counties, locations='fips', color='unemp',\n",
    "                           color_continuous_scale=\"Viridis\",\n",
    "                           range_color=(0, 12),\n",
    "                           scope=\"usa\",\n",
    "                           labels={'unemp':'unemployment rate'}\n",
    "                          )\n",
    "fig.update_layout(margin={\"r\":0,\"t\":0,\"l\":0,\"b\":0})\n",
    "fig.show()"
   ]
  },
  {
   "cell_type": "code",
   "execution_count": null,
   "metadata": {
    "ExecuteTime": {
     "end_time": "2020-09-23T08:44:20.563183Z",
     "start_time": "2020-09-23T08:44:19.791183Z"
    }
   },
   "outputs": [],
   "source": [
    "df['FIPS'] = df['FIPS'].astype(int).astype(str)\n",
    "fig = px.choropleth(df, geojson=counties, locations='FIPS', color='Cluster_labels',\n",
    "                  color_continuous_scale=\"Viridis\",\n",
    "                  range_color=(0, 4),\n",
    "                   scope=\"usa\",\n",
    "                   labels={'Clutser':'Cluster_labels'}\n",
    "                  )\n",
    "fig.update_layout(margin={\"r\":0,\"t\":0,\"l\":0,\"b\":0})"
   ]
  }
 ],
 "metadata": {
  "kernelspec": {
   "display_name": "Python 3",
   "language": "python",
   "name": "python3"
  },
  "language_info": {
   "codemirror_mode": {
    "name": "ipython",
    "version": 3
   },
   "file_extension": ".py",
   "mimetype": "text/x-python",
   "name": "python",
   "nbconvert_exporter": "python",
   "pygments_lexer": "ipython3",
   "version": "3.7.2"
  }
 },
 "nbformat": 4,
 "nbformat_minor": 2
}
